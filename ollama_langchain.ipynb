{
 "cells": [
  {
   "cell_type": "markdown",
   "id": "778b86bd",
   "metadata": {},
   "source": [
    "# LangChain with Ollama\n",
    "\n",
    "Steps followed from this: https://python.langchain.com/v0.1/docs/get_started/quickstart"
   ]
  },
  {
   "cell_type": "markdown",
   "id": "e61416de",
   "metadata": {},
   "source": [
    "### Imports"
   ]
  },
  {
   "cell_type": "code",
   "execution_count": 2,
   "id": "e11ccaa5",
   "metadata": {},
   "outputs": [
    {
     "name": "stderr",
     "output_type": "stream",
     "text": [
      "USER_AGENT environment variable not set, consider setting it to identify your requests.\n"
     ]
    }
   ],
   "source": [
    "from langchain.chains import create_retrieval_chain\n",
    "from langchain.chains.combine_documents import create_stuff_documents_chain\n",
    "\n",
    "from langchain_community.document_loaders import WebBaseLoader\n",
    "from langchain_community.embeddings import OllamaEmbeddings\n",
    "from langchain_community.llms import Ollama\n",
    "from langchain_community.vectorstores import FAISS\n",
    "\n",
    "from langchain_core.messages import HumanMessage, AIMessage\n",
    "from langchain_core.output_parsers import StrOutputParser\n",
    "from langchain_core.prompts import ChatPromptTemplate\n",
    "\n",
    "from langchain_text_splitters import RecursiveCharacterTextSplitter"
   ]
  },
  {
   "cell_type": "markdown",
   "id": "2d54e135",
   "metadata": {},
   "source": [
    "### LLM\n",
    "\n",
    "initialize the LLM to be used along with an empty chat history"
   ]
  },
  {
   "cell_type": "code",
   "execution_count": 7,
   "id": "75e5ec89",
   "metadata": {},
   "outputs": [],
   "source": [
    "llm = Ollama(model=\"llama3\")\n",
    "chat_history = []"
   ]
  },
  {
   "cell_type": "markdown",
   "id": "95a2a499",
   "metadata": {},
   "source": [
    "### Documents for Retrieval w/ Embeddings\n",
    "\n",
    "get a couple documents and create some context. creates the embeddings and stores them in a vector space"
   ]
  },
  {
   "cell_type": "code",
   "execution_count": 3,
   "id": "e770b246",
   "metadata": {},
   "outputs": [],
   "source": [
    "loader = WebBaseLoader([\n",
    "    \"https://en.wikipedia.org/wiki/Gravity\",\n",
    "    \"https://en.wikipedia.org/wiki/Consciousness\"\n",
    "])\n",
    "\n",
    "docs = loader.load()\n",
    "embeddings = OllamaEmbeddings(\n",
    "    model=\"llama3\"\n",
    ")\n",
    "text_splitter = RecursiveCharacterTextSplitter()\n",
    "documents = text_splitter.split_documents(docs)\n",
    "vector = FAISS.from_documents(documents, embeddings)"
   ]
  },
  {
   "cell_type": "markdown",
   "id": "557d3231",
   "metadata": {},
   "source": [
    "### Invoke the model"
   ]
  },
  {
   "cell_type": "code",
   "execution_count": 8,
   "id": "e417d06d",
   "metadata": {},
   "outputs": [
    {
     "name": "stdout",
     "output_type": "stream",
     "text": [
      "What a fascinating intersection! While gravity is a well-studied force in physics, consciousness remains a complex and multifaceted topic in philosophy, neuroscience, and psychology. Despite these differences, there are intriguing crossovers between our understanding of gravity and consciousness.\n",
      "\n",
      "One significant connection lies in the concept of emergence. In both cases, we're dealing with phenomena that arise from the interactions and organization of individual components. Gravity emerges from the collective behavior of massive objects warping spacetime, while consciousness likely arises from the intricate workings of neurons, glial cells, and other brain elements interacting and processing information.\n",
      "\n",
      "Another crossover involves the notion of complexity. Gravity's effects become apparent at certain scales (e.g., planetary or cosmic), whereas consciousness is typically associated with complex biological systems like brains. However, both phenomena exhibit self-organizing properties, where local interactions give rise to global patterns and behaviors that are difficult to predict from individual components alone.\n",
      "\n",
      "The concept of entanglement also finds parallels in the study of consciousness. In quantum mechanics, entangled particles become connected, influencing each other even when separated by vast distances. Similarly, consciousness research explores how integrated information theory (IIT) might enable distinct conscious experiences, such as subjective awareness or self-awareness, to emerge from the interactions and integration of neural processes.\n",
      "\n",
      "Lastly, both gravity and consciousness involve non-local influences. In gravity, mass-energy warps spacetime, affecting objects across vast distances. Consciousness research suggests that integrated information can transcend local boundaries, enabling global, distributed processing in the brain. This perspective is reflected in theories like global workspace theory (GWT) or the binding problem.\n",
      "\n",
      "While the study of gravity has led to significant advances and practical applications, the investigation of consciousness remains an ongoing quest for understanding the human experience. The crossovers between these two fields can inspire new insights and methodologies, ultimately enriching our comprehension of both gravity and consciousness.\n"
     ]
    }
   ],
   "source": [
    "# lvl 4\n",
    "from langchain.chains import create_history_aware_retriever\n",
    "from langchain_core.prompts import MessagesPlaceholder\n",
    "\n",
    "chat_history = [HumanMessage(content=\"Are there philosophical and scienctific crossovers in our current understandings of gravity and consciousness?\"), AIMessage(content=\"Yes!\")]\n",
    "\n",
    "# first, we need to generate a query that can be used to look up relevant documents\n",
    "# this is the new, updated retriever\n",
    "retriever = vector.as_retriever()\n",
    "retriever_prompt = ChatPromptTemplate.from_messages([\n",
    "    MessagesPlaceholder(variable_name=\"chat_history\"),\n",
    "    (\"user\", \"{input}\"),\n",
    "    (\"user\", \"Given the above conversation, generate a search query to look up to get information relevant to the conversation\")\n",
    "])\n",
    "retriever_chain = create_history_aware_retriever(llm, retriever, retriever_prompt)\n",
    "\n",
    "# test it out if desired\n",
    "# retriever_chain.invoke({\n",
    "#     \"chat_history\": chat_history,\n",
    "#     \"input\": \"Tell about them\"\n",
    "# })\n",
    "\n",
    "# second, we generate an answer to the user's original question\n",
    "reply_prompt = ChatPromptTemplate.from_messages([\n",
    "    (\"system\", \"Answer the user's questions based on the below context:\\n\\n{context}\"),\n",
    "    MessagesPlaceholder(variable_name=\"chat_history\"),\n",
    "    (\"user\", \"{input}\"),\n",
    "])\n",
    "document_chain = create_stuff_documents_chain(llm, reply_prompt)\n",
    "retrieval_chain = create_retrieval_chain(retriever_chain, document_chain)\n",
    "\n",
    "# invoke the llm to answer the question\n",
    "q = \"Tell me about them\"\n",
    "a = retrieval_chain.invoke({\n",
    "    \"chat_history\": chat_history,\n",
    "    \"input\": q\n",
    "})[\"answer\"]\n",
    "print(a)\n",
    "\n",
    "# # # # # # # # # # # # # # # # # # # # # # # # # # # # # # # # # # # # # # # # # # \n",
    "# lvl 3 - use the context provided by the document retrieval to answer the question\n",
    "# create a prompt that can look up relevant information in a document vectorstore\n",
    "# prompt = ChatPromptTemplate.from_template(\"\"\"\n",
    "# You are a world class astrophysicist who speciallizes in gravity and dabbles in consciousness for fun. Answer the following question using the provided context to enhance your answer:\n",
    "\n",
    "# <context>\n",
    "# {context}\n",
    "# </context>\n",
    "\n",
    "# Question: {input}\"\"\")\n",
    "\n",
    "# # now create the retrieval chain\n",
    "# document_chain = create_stuff_documents_chain(llm, prompt)\n",
    "# retriever = vector.as_retriever()\n",
    "# retrieval_chain = create_retrieval_chain(retriever, document_chain)\n",
    "\n",
    "# # and invoke it\n",
    "# q = \"How is consciousness related to gravity?\"\n",
    "# a = retrieval_chain.invoke(\n",
    "#     {\"input\": q}\n",
    "# )[\"answer\"]\n",
    "# print(a)\n",
    "\n",
    "# # # # # # # # # # # # # # # # # # # # # # # # # # # # # # # # # # # # # # # # # # \n",
    "# lvl 2 - provide a system prompt and get the output\n",
    "# output_parser = StrOutputParser()\n",
    "# prompt = ChatPromptTemplate.from_messages([\n",
    "#     (\"system\", \"You are a world class astrophysicist who speciallizes in gravity and dabbles in consciousness for fun.\"),\n",
    "#     (\"user\", \"{input}\")\n",
    "# ])\n",
    "# chain = prompt | llm | output_parser\n",
    "# q = \"How is consciousness related to gravity?\"\n",
    "# a = chain.invoke({\n",
    "#     \"input\": q\n",
    "# })\n",
    "\n",
    "# # # # # # # # # # # # # # # # # # # # # # # # # # # # # # # # # # # # # # # # # # \n",
    "# lvl 1 - no context, bare bones\n",
    "# q = \"what is gravity?\"\n",
    "# a = llm.invoke(\"what is gravity?\")\n",
    "# print(a)\n",
    "\n",
    "# handle the chat history\n",
    "chat_history.append(\n",
    "    HumanMessage(content=q)\n",
    ")\n",
    "chat_history.append(\n",
    "    AIMessage(content=a)\n",
    ")"
   ]
  }
 ],
 "metadata": {
  "kernelspec": {
   "display_name": "venv",
   "language": "python",
   "name": "python3"
  },
  "language_info": {
   "codemirror_mode": {
    "name": "ipython",
    "version": 3
   },
   "file_extension": ".py",
   "mimetype": "text/x-python",
   "name": "python",
   "nbconvert_exporter": "python",
   "pygments_lexer": "ipython3",
   "version": "3.11.9"
  }
 },
 "nbformat": 4,
 "nbformat_minor": 5
}
